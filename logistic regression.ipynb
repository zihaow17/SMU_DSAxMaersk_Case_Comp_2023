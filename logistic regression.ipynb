{
 "cells": [
  {
   "cell_type": "code",
   "execution_count": 86,
   "metadata": {},
   "outputs": [],
   "source": [
    "import pandas as pd \n",
    "import numpy as np  \n",
    "from sklearn.model_selection import train_test_split\n",
    "from sklearn.preprocessing import OneHotEncoder, LabelEncoder\n",
    "from sklearn.compose import ColumnTransformer\n",
    "from sklearn.model_selection import train_test_split, GridSearchCV\n",
    "from sklearn.linear_model import LogisticRegression\n",
    "from sklearn.metrics import accuracy_score, make_scorer\n",
    "from sklearn.preprocessing import StandardScaler\n",
    "\n"
   ]
  },
  {
   "cell_type": "code",
   "execution_count": 87,
   "metadata": {},
   "outputs": [],
   "source": [
    "df = pd.read_csv(\"Airline Passenger Satisfaction.csv\")"
   ]
  },
  {
   "cell_type": "markdown",
   "metadata": {},
   "source": [
    "\n",
    "Preprocessing Data"
   ]
  },
  {
   "cell_type": "code",
   "execution_count": 91,
   "metadata": {},
   "outputs": [],
   "source": [
    "#Prepare data\n",
    "X = df.drop(['satisfaction', 'id', 'Customer Type', 'index', 'satisfaction score'], axis=1)\n",
    "y = df['satisfaction']\n",
    "\n",
    "#Encode target variable\n",
    "encoder = LabelEncoder()\n",
    "y_encoded = encoder.fit_transform(y)\n",
    "\n",
    "#Handle categorical columns\n",
    "categorical_columns = ['Gender', 'Type of Travel', 'Class']\n",
    "\n",
    "ct = ColumnTransformer([('encoder', OneHotEncoder(), categorical_columns)], remainder='passthrough')\n",
    "X_encoded = ct.fit_transform(X)\n",
    "\n"
   ]
  },
  {
   "cell_type": "code",
   "execution_count": 92,
   "metadata": {},
   "outputs": [],
   "source": [
    "#Splitting Data into training and test sets\n",
    "\n",
    "X_train, X_test, y_train, y_test = train_test_split(X_encoded, y_encoded, test_size=0.2, random_state=42)\n"
   ]
  },
  {
   "cell_type": "code",
   "execution_count": 93,
   "metadata": {},
   "outputs": [
    {
     "name": "stdout",
     "output_type": "stream",
     "text": [
      "Model's Accuracy (solver=lbfgs, C=0.001, max_iter=5000): 0.8586387434554974\n",
      "Model's Accuracy (solver=lbfgs, C=0.01, max_iter=5000): 0.8587542346781645\n",
      "Model's Accuracy (solver=lbfgs, C=0.1, max_iter=5000): 0.8584462580843856\n",
      "Model's Accuracy (solver=lbfgs, C=1, max_iter=5000): 0.8584077610101633\n",
      "Model's Accuracy (solver=lbfgs, C=10, max_iter=5000): 0.8584077610101633\n",
      "Model's Accuracy (solver=lbfgs, C=100, max_iter=5000): 0.8584077610101633\n",
      "Model's Accuracy (solver=liblinear, C=0.001, max_iter=5000): 0.8580227902679396\n",
      "Model's Accuracy (solver=liblinear, C=0.01, max_iter=5000): 0.8586002463812751\n",
      "Model's Accuracy (solver=liblinear, C=0.1, max_iter=5000): 0.8584077610101633\n",
      "Model's Accuracy (solver=liblinear, C=1, max_iter=5000): 0.8584077610101633\n",
      "Model's Accuracy (solver=liblinear, C=10, max_iter=5000): 0.8584077610101633\n",
      "Model's Accuracy (solver=liblinear, C=100, max_iter=5000): 0.8584077610101633\n",
      "Model's Accuracy (solver=saga, C=0.001, max_iter=5000): 0.8586387434554974\n",
      "Model's Accuracy (solver=saga, C=0.01, max_iter=5000): 0.8587157376039422\n",
      "Model's Accuracy (solver=saga, C=0.1, max_iter=5000): 0.8584462580843856\n",
      "Model's Accuracy (solver=saga, C=1, max_iter=5000): 0.8584077610101633\n",
      "Model's Accuracy (solver=saga, C=10, max_iter=5000): 0.8584077610101633\n",
      "Model's Accuracy (solver=saga, C=100, max_iter=5000): 0.8584077610101633\n",
      "\n",
      "Best Model's Individual Coefficients:\n",
      "Gender: -0.0286896426400859\n",
      "Age: 0.02868964264008591\n",
      "Type of Travel: 0.43850295558581326\n",
      "Class: -0.43850295558581315\n",
      "Flight Distance: 0.2520927518077773\n",
      "Inflight wifi service: -0.22367504083822043\n",
      "Departure/Arrival time convenient: -0.05649159843925386\n",
      "Ease of Online booking: 0.08005543262881114\n",
      "Gate location: 0.18841128663895038\n",
      "Food and drink: 0.5127285061739355\n",
      "Online boarding: -0.082244518038088\n",
      "Seat comfort: -0.30108371419812396\n",
      "Inflight entertainment: 0.014253501745827853\n",
      "On-board service: -0.06965243073865114\n",
      "Leg room service: 0.9129405166134734\n",
      "Baggage handling: 0.11763799041186021\n",
      "Checkin service: 0.2887089129529065\n",
      "Inflight service: 0.33477038475493603\n",
      "Cleanliness: 0.34228915635679935\n",
      "Departure Delay in Minutes: 0.06887054599524287\n",
      "Arrival Delay in Minutes: 0.32009030871465594\n"
     ]
    }
   ],
   "source": [
    "#Preprocess the features (optional but can aid convergence)\n",
    "scaler = StandardScaler()\n",
    "X_train_scaled = scaler.fit_transform(X_train)\n",
    "X_test_scaled = scaler.transform(X_test)\n",
    "\n",
    "#Create and train the Logistic Regression model with different solvers and regularization\n",
    "solvers = ['lbfgs', 'liblinear', 'saga']\n",
    "Cs = [0.001, 0.01, 0.1, 1, 10, 100]  # Values for the regularization parameter\n",
    "\n",
    "best_accuracy = 0\n",
    "best_model = None\n",
    "\n",
    "for solver in solvers:\n",
    "    for C in Cs:\n",
    "        model = LogisticRegression(solver=solver, C=C, max_iter=5000)  # Try different combinations of solvers and C\n",
    "        model.fit(X_train_scaled, y_train)\n",
    "\n",
    "        # Step 7: Evaluate the model\n",
    "        y_pred = model.predict(X_test_scaled)\n",
    "        accuracy = accuracy_score(y_test, y_pred)\n",
    "\n",
    "        print(f\"Model's Accuracy (solver={solver}, C={C}, max_iter=5000): {accuracy}\")\n",
    "\n",
    "        # Keep track of the best model based on accuracy\n",
    "        if accuracy > best_accuracy:\n",
    "            best_accuracy = accuracy\n",
    "            best_model = model\n",
    "\n",
    "#Get the individual coefficients of the best model\n",
    "if best_model is not None:\n",
    "    best_coefficients = best_model.coef_[0]\n",
    "\n",
    "    # Print the individual coefficients\n",
    "    print(\"\\nBest Model's Individual Coefficients:\")\n",
    "    for feature, coef in zip(X.columns, best_coefficients):\n",
    "        print(f\"{feature}: {coef}\")"
   ]
  }
 ],
 "metadata": {
  "kernelspec": {
   "display_name": "Python 3",
   "language": "python",
   "name": "python3"
  },
  "language_info": {
   "codemirror_mode": {
    "name": "ipython",
    "version": 3
   },
   "file_extension": ".py",
   "mimetype": "text/x-python",
   "name": "python",
   "nbconvert_exporter": "python",
   "pygments_lexer": "ipython3",
   "version": "3.9.6"
  },
  "orig_nbformat": 4
 },
 "nbformat": 4,
 "nbformat_minor": 2
}
